{
 "cells": [
  {
   "cell_type": "code",
   "execution_count": 1,
   "id": "00de19e5",
   "metadata": {},
   "outputs": [],
   "source": [
    "##Importing libraries\n",
    "\n",
    "import pandas as pd\n",
    "import numpy as np\n",
    "import matplotlib.pyplot as plt\n",
    "%matplotlib inline\n",
    "import seaborn as sns"
   ]
  },
  {
   "cell_type": "code",
   "execution_count": 2,
   "id": "f2f0a6f0",
   "metadata": {},
   "outputs": [
    {
     "data": {
      "text/html": [
       "<div>\n",
       "<style scoped>\n",
       "    .dataframe tbody tr th:only-of-type {\n",
       "        vertical-align: middle;\n",
       "    }\n",
       "\n",
       "    .dataframe tbody tr th {\n",
       "        vertical-align: top;\n",
       "    }\n",
       "\n",
       "    .dataframe thead th {\n",
       "        text-align: right;\n",
       "    }\n",
       "</style>\n",
       "<table border=\"1\" class=\"dataframe\">\n",
       "  <thead>\n",
       "    <tr style=\"text-align: right;\">\n",
       "      <th></th>\n",
       "      <th>longitude</th>\n",
       "      <th>latitude</th>\n",
       "      <th>housing_median_age</th>\n",
       "      <th>total_rooms</th>\n",
       "      <th>total_bedrooms</th>\n",
       "      <th>population</th>\n",
       "      <th>households</th>\n",
       "      <th>median_income</th>\n",
       "      <th>median_house_value</th>\n",
       "      <th>ocean_proximity</th>\n",
       "    </tr>\n",
       "  </thead>\n",
       "  <tbody>\n",
       "    <tr>\n",
       "      <th>0</th>\n",
       "      <td>-122.23</td>\n",
       "      <td>37.88</td>\n",
       "      <td>41</td>\n",
       "      <td>880</td>\n",
       "      <td>129.0</td>\n",
       "      <td>322</td>\n",
       "      <td>126</td>\n",
       "      <td>8.3252</td>\n",
       "      <td>452600</td>\n",
       "      <td>NaN</td>\n",
       "    </tr>\n",
       "    <tr>\n",
       "      <th>1</th>\n",
       "      <td>-122.22</td>\n",
       "      <td>37.86</td>\n",
       "      <td>21</td>\n",
       "      <td>7099</td>\n",
       "      <td>1106.0</td>\n",
       "      <td>2401</td>\n",
       "      <td>1138</td>\n",
       "      <td>8.3014</td>\n",
       "      <td>358500</td>\n",
       "      <td>NEAR BAY</td>\n",
       "    </tr>\n",
       "    <tr>\n",
       "      <th>2</th>\n",
       "      <td>-122.24</td>\n",
       "      <td>37.85</td>\n",
       "      <td>52</td>\n",
       "      <td>1467</td>\n",
       "      <td>190.0</td>\n",
       "      <td>496</td>\n",
       "      <td>177</td>\n",
       "      <td>7.2574</td>\n",
       "      <td>352100</td>\n",
       "      <td>NEAR BAY</td>\n",
       "    </tr>\n",
       "    <tr>\n",
       "      <th>3</th>\n",
       "      <td>-122.25</td>\n",
       "      <td>37.85</td>\n",
       "      <td>52</td>\n",
       "      <td>1274</td>\n",
       "      <td>235.0</td>\n",
       "      <td>558</td>\n",
       "      <td>219</td>\n",
       "      <td>5.6431</td>\n",
       "      <td>341300</td>\n",
       "      <td>NEAR BAY</td>\n",
       "    </tr>\n",
       "    <tr>\n",
       "      <th>4</th>\n",
       "      <td>-122.25</td>\n",
       "      <td>37.85</td>\n",
       "      <td>52</td>\n",
       "      <td>1627</td>\n",
       "      <td>280.0</td>\n",
       "      <td>565</td>\n",
       "      <td>259</td>\n",
       "      <td>3.8462</td>\n",
       "      <td>342200</td>\n",
       "      <td>NEAR BAY</td>\n",
       "    </tr>\n",
       "  </tbody>\n",
       "</table>\n",
       "</div>"
      ],
      "text/plain": [
       "   longitude  latitude  housing_median_age  total_rooms  total_bedrooms  \\\n",
       "0    -122.23     37.88                  41          880           129.0   \n",
       "1    -122.22     37.86                  21         7099          1106.0   \n",
       "2    -122.24     37.85                  52         1467           190.0   \n",
       "3    -122.25     37.85                  52         1274           235.0   \n",
       "4    -122.25     37.85                  52         1627           280.0   \n",
       "\n",
       "   population  households  median_income  median_house_value ocean_proximity  \n",
       "0         322         126         8.3252              452600             NaN  \n",
       "1        2401        1138         8.3014              358500        NEAR BAY  \n",
       "2         496         177         7.2574              352100        NEAR BAY  \n",
       "3         558         219         5.6431              341300        NEAR BAY  \n",
       "4         565         259         3.8462              342200        NEAR BAY  "
      ]
     },
     "execution_count": 2,
     "metadata": {},
     "output_type": "execute_result"
    }
   ],
   "source": [
    "housing = pd.read_csv(\"C:\\Machine_learning_projects\\California_Housing_prediction\\Module_2_NotebookFiles\\Module_2_NotebookFiles\\housing.csv\")\n",
    "housing.head()\n"
   ]
  },
  {
   "cell_type": "code",
   "execution_count": null,
   "id": "a710970b",
   "metadata": {},
   "outputs": [],
   "source": [
    "housing.shape"
   ]
  },
  {
   "cell_type": "code",
   "execution_count": null,
   "id": "b09df109",
   "metadata": {},
   "outputs": [],
   "source": [
    "housing.isnull().sum()"
   ]
  },
  {
   "cell_type": "code",
   "execution_count": null,
   "id": "c1ad52bd",
   "metadata": {},
   "outputs": [],
   "source": [
    "housing_num = housing.select_dtypes(include=[np.number])\n",
    "len(housing_num)"
   ]
  },
  {
   "cell_type": "markdown",
   "id": "b6a327ff",
   "metadata": {},
   "source": [
    "## Missing values function for numeric values"
   ]
  },
  {
   "cell_type": "code",
   "execution_count": null,
   "id": "7fd4b6a6",
   "metadata": {},
   "outputs": [],
   "source": [
    "def perform_missing_values(housing_num):\n",
    "    check = False\n",
    "    k = 0\n",
    "    X = housing_num.iloc[:,:].values\n",
    "    housing_null = housing_num.isnull().sum()\n",
    "    for i in housing_num:\n",
    "        #print(\"the k value is:\" , k)\n",
    "        #print(\"type of housing num:\",type(housing_num))\n",
    "        if housing_null[k] > 0:\n",
    "            print(f\"{housing_null.index[k]} has {housing_null[k]} null values.\")\n",
    "            check = True\n",
    "            print(\"Perform Simple Imputer\")\n",
    "            from sklearn.impute import SimpleImputer\n",
    "            imputer = SimpleImputer(strategy = \"median\",missing_values=np.nan)\n",
    "            imputer = imputer.fit(X[:,k:])\n",
    "            X[:,k:] = imputer.transform(X[:,k:])\n",
    "            #housing_num_tr = pd.DataFrame(X,columns=housing_num.columns, index = housing.index)\n",
    "        k = k + 1\n",
    "    housing_num = pd.DataFrame(X,columns=housing_num.columns, index = housing.index)\n",
    "    return check, housing_num"
   ]
  },
  {
   "cell_type": "code",
   "execution_count": null,
   "id": "ea8d357c",
   "metadata": {},
   "outputs": [],
   "source": [
    "check,housing_num = perform_missing_values(housing_num)\n",
    "if check:\n",
    "    print(\"Missing values have been replaced\")\n",
    "else: \n",
    "    print(\"Dataset does not have missing values\")"
   ]
  },
  {
   "cell_type": "markdown",
   "id": "147876ae",
   "metadata": {},
   "source": [
    "## Missing values function for categorical values"
   ]
  },
  {
   "cell_type": "code",
   "execution_count": null,
   "id": "193d8ab4",
   "metadata": {},
   "outputs": [],
   "source": [
    "def perform_missing_values_cat(housing_cat):\n",
    "    check = False\n",
    "    k = 0\n",
    "    X = housing_cat.iloc[:,:].values\n",
    "    housing_null = housing_cat.isnull().sum()\n",
    "    for i in housing_cat:\n",
    "        #print(\"the k value is:\" , k)\n",
    "        #print(\"type of housing num:\",type(housing_num))\n",
    "        if housing_null[k] > 0:\n",
    "            print(f\"{housing_null.index[k]} has {housing_null[k]} null values.\")\n",
    "            check = True\n",
    "            print(\"Perform Simple Imputer\")\n",
    "            from sklearn.impute import SimpleImputer\n",
    "            imputer = SimpleImputer(strategy = \"most_frequent\",missing_values=np.nan)\n",
    "            imputer = imputer.fit(X[:,k:])\n",
    "            X[:,k:] = imputer.transform(X[:,k:])\n",
    "            #housing_num_tr = pd.DataFrame(X,columns=housing_num.columns, index = housing.index)\n",
    "        k = k + 1\n",
    "    housing_cat = pd.DataFrame(X,columns=housing_cat.columns, index = housing.index)\n",
    "    return check, housing_cat"
   ]
  },
  {
   "cell_type": "code",
   "execution_count": null,
   "id": "76b22718",
   "metadata": {},
   "outputs": [],
   "source": [
    "housing_cat = housing.select_dtypes(exclude=[np.number])\n",
    "if len(list(housing_cat.columns)) != 0:\n",
    "    print(\"data has categorical features\")\n",
    "    check,housing_cat = perform_missing_values_cat(housing_cat)\n",
    "\n",
    "else:\n",
    "    print(\"data does not have categorical features\")"
   ]
  },
  {
   "cell_type": "markdown",
   "id": "f5ba33a5",
   "metadata": {},
   "source": [
    "## Combining numerical and categorical datasets"
   ]
  },
  {
   "cell_type": "code",
   "execution_count": null,
   "id": "b610e48b",
   "metadata": {},
   "outputs": [],
   "source": [
    "housing_new = pd.concat([housing_num,housing_cat],axis=1,join=\"inner\")"
   ]
  },
  {
   "cell_type": "markdown",
   "id": "17169950",
   "metadata": {},
   "source": [
    "## Trying to combine into one function"
   ]
  },
  {
   "cell_type": "code",
   "execution_count": null,
   "id": "7b4b8630",
   "metadata": {},
   "outputs": [],
   "source": [
    "def perform_missing_values_cat(housing_cat):\n",
    "    strategy_variable = ''\n",
    "    check = False\n",
    "    k = 0\n",
    "    X = housing.iloc[:,:].values\n",
    "    housing_null = housing.isnull().sum()\n",
    "    for i in housing:\n",
    "        #print(\"the k value is:\" , k)\n",
    "        #print(\"type of housing num:\",type(housing_num))\n",
    "        if housing_null[k] > 0:\n",
    "            print(f\"{housing_null.index[k]} has {housing_null[k]} null values.\")\n",
    "            type(housing_null)\n",
    "            check = True\n",
    "            print(\"Perform Simple Imputer\")\n",
    "            from sklearn.impute import SimpleImputer\n",
    "            imputer = SimpleImputer(strategy = \"most_frequent\",missing_values=np.nan)\n",
    "            imputer = imputer.fit(X[:,k:])\n",
    "            X[:,k:] = imputer.transform(X[:,k:])\n",
    "            #housing_num_tr = pd.DataFrame(X,columns=housing_num.columns, index = housing.index)\n",
    "        k = k + 1\n",
    "    housing_cat = pd.DataFrame(X,columns=housing_cat.columns, index = housing.index)\n",
    "    return check, housing_cat"
   ]
  },
  {
   "cell_type": "code",
   "execution_count": null,
   "id": "86a0ab02",
   "metadata": {},
   "outputs": [],
   "source": [
    "def perform_missing_values(housing):\n",
    "    print(\"first line\")\n",
    "    strategy_variable = ''\n",
    "    check = False\n",
    "    k = 0\n",
    "    X = housing.iloc[:,:].values\n",
    "    housing_null = housing.isnull().sum()\n",
    "    #print(housing_null)\n",
    "    for i in housing:\n",
    "        print(type(i))\n",
    "        #if housing.select_dtypes(include=[np.number]) != 0:\n",
    "        if isinstance(i,str):\n",
    "            print(\"non-numeric\")\n",
    "            strategy_variable = 'most_frequent'\n",
    "        else:\n",
    "            print(\"numeric\") \n",
    "            strategy_variable = 'mean'\n",
    "        #print(\"the k value is:\" , k)\n",
    "        #print(\"type of housing num:\",type(housing_num))\n",
    "        if housing_null[k] > 0:\n",
    "            print(f\"{housing_null.index[k]} has {housing_null[k]} null values.\")\n",
    "            print(type(housing_null[k]))\n",
    "            check = True\n",
    "            print(\"Perform Simple Imputer\")\n",
    "            from sklearn.impute import SimpleImputer\n",
    "            imputer = SimpleImputer(strategy = strategy_variable,missing_values=np.nan)\n",
    "            imputer = imputer.fit(X[:,k:])\n",
    "            X[:,k:] = imputer.transform(X[:,k:])\n",
    "            #housing_num_tr = pd.DataFrame(X,columns=housing_num.columns, index = housing.index)\n",
    "        k = k + 1\n",
    "    housing = pd.DataFrame(X,columns=housing.columns, index = housing.index)\n",
    "    return check, housing"
   ]
  },
  {
   "cell_type": "code",
   "execution_count": null,
   "id": "0adb58c2",
   "metadata": {},
   "outputs": [],
   "source": [
    "check,housing = perform_missing_values(housing)"
   ]
  },
  {
   "cell_type": "code",
   "execution_count": null,
   "id": "f33505e7",
   "metadata": {},
   "outputs": [],
   "source": [
    "housing.head()"
   ]
  },
  {
   "cell_type": "code",
   "execution_count": null,
   "id": "38a73781",
   "metadata": {
    "scrolled": true
   },
   "outputs": [],
   "source": [
    "housing.isnull().sum()"
   ]
  },
  {
   "cell_type": "code",
   "execution_count": 3,
   "id": "3bef5428",
   "metadata": {},
   "outputs": [],
   "source": [
    "    def OneHEncoding(housing):\n",
    "        housing_cat = housing.select_dtypes(exclude=[np.number])\n",
    "        housing_cat.head()\n",
    "        if len(housing_cat)>0:\n",
    "                from sklearn.preprocessing import OneHotEncoder\n",
    "                cat_encoder = OneHotEncoder(sparse=False)\n",
    "                housing_cat_1hot = cat_encoder.fit_transform(housing_cat)\n",
    "                #X = housing_cat.iloc[:,:].values\n",
    "                housing_cat = pd.DataFrame(X,columns=housing_cat_1hot.columns, index = housing.index)\n",
    "                housing = pd.concat([housing,housing_cat],axis=1,join=\"inner\")  \n",
    "        return housing\n",
    "\n",
    "    "
   ]
  },
  {
   "cell_type": "code",
   "execution_count": 4,
   "id": "f6a9c896",
   "metadata": {},
   "outputs": [
    {
     "name": "stdout",
     "output_type": "stream",
     "text": [
      "<class 'numpy.ndarray'>\n"
     ]
    },
    {
     "ename": "NameError",
     "evalue": "name 'X' is not defined",
     "output_type": "error",
     "traceback": [
      "\u001b[1;31m---------------------------------------------------------------------------\u001b[0m",
      "\u001b[1;31mNameError\u001b[0m                                 Traceback (most recent call last)",
      "\u001b[1;32m~\\AppData\\Local\\Temp/ipykernel_63692/2700219334.py\u001b[0m in \u001b[0;36m<module>\u001b[1;34m\u001b[0m\n\u001b[1;32m----> 1\u001b[1;33m \u001b[0mhousing\u001b[0m \u001b[1;33m=\u001b[0m \u001b[0mOneHEncoding\u001b[0m\u001b[1;33m(\u001b[0m\u001b[0mhousing\u001b[0m\u001b[1;33m)\u001b[0m\u001b[1;33m\u001b[0m\u001b[1;33m\u001b[0m\u001b[0m\n\u001b[0m",
      "\u001b[1;32m~\\AppData\\Local\\Temp/ipykernel_63692/418009861.py\u001b[0m in \u001b[0;36mOneHEncoding\u001b[1;34m(housing)\u001b[0m\n\u001b[0;32m      8\u001b[0m             \u001b[0mprint\u001b[0m\u001b[1;33m(\u001b[0m\u001b[0mtype\u001b[0m\u001b[1;33m(\u001b[0m\u001b[0mhousing_cat_1hot\u001b[0m\u001b[1;33m)\u001b[0m\u001b[1;33m)\u001b[0m\u001b[1;33m\u001b[0m\u001b[1;33m\u001b[0m\u001b[0m\n\u001b[0;32m      9\u001b[0m             \u001b[1;31m#X = housing_cat.iloc[:,:].values\u001b[0m\u001b[1;33m\u001b[0m\u001b[1;33m\u001b[0m\u001b[0m\n\u001b[1;32m---> 10\u001b[1;33m             \u001b[0mhousing_cat\u001b[0m \u001b[1;33m=\u001b[0m \u001b[0mpd\u001b[0m\u001b[1;33m.\u001b[0m\u001b[0mDataFrame\u001b[0m\u001b[1;33m(\u001b[0m\u001b[0mX\u001b[0m\u001b[1;33m,\u001b[0m\u001b[0mcolumns\u001b[0m\u001b[1;33m=\u001b[0m\u001b[0mhousing_cat_1hot\u001b[0m\u001b[1;33m.\u001b[0m\u001b[0mcolumns\u001b[0m\u001b[1;33m,\u001b[0m \u001b[0mindex\u001b[0m \u001b[1;33m=\u001b[0m \u001b[0mhousing\u001b[0m\u001b[1;33m.\u001b[0m\u001b[0mindex\u001b[0m\u001b[1;33m)\u001b[0m\u001b[1;33m\u001b[0m\u001b[1;33m\u001b[0m\u001b[0m\n\u001b[0m\u001b[0;32m     11\u001b[0m             \u001b[0mhousing\u001b[0m \u001b[1;33m=\u001b[0m \u001b[0mpd\u001b[0m\u001b[1;33m.\u001b[0m\u001b[0mconcat\u001b[0m\u001b[1;33m(\u001b[0m\u001b[1;33m[\u001b[0m\u001b[0mhousing\u001b[0m\u001b[1;33m,\u001b[0m\u001b[0mhousing_cat\u001b[0m\u001b[1;33m]\u001b[0m\u001b[1;33m,\u001b[0m\u001b[0maxis\u001b[0m\u001b[1;33m=\u001b[0m\u001b[1;36m1\u001b[0m\u001b[1;33m,\u001b[0m\u001b[0mjoin\u001b[0m\u001b[1;33m=\u001b[0m\u001b[1;34m\"inner\"\u001b[0m\u001b[1;33m)\u001b[0m\u001b[1;33m\u001b[0m\u001b[1;33m\u001b[0m\u001b[0m\n\u001b[0;32m     12\u001b[0m     \u001b[1;32mreturn\u001b[0m \u001b[0mhousing\u001b[0m\u001b[1;33m\u001b[0m\u001b[1;33m\u001b[0m\u001b[0m\n",
      "\u001b[1;31mNameError\u001b[0m: name 'X' is not defined"
     ]
    }
   ],
   "source": [
    "housing = OneHEncoding(housing)"
   ]
  },
  {
   "cell_type": "code",
   "execution_count": null,
   "id": "5e54cc9d",
   "metadata": {},
   "outputs": [],
   "source": []
  }
 ],
 "metadata": {
  "kernelspec": {
   "display_name": "Python 3 (ipykernel)",
   "language": "python",
   "name": "python3"
  },
  "language_info": {
   "codemirror_mode": {
    "name": "ipython",
    "version": 3
   },
   "file_extension": ".py",
   "mimetype": "text/x-python",
   "name": "python",
   "nbconvert_exporter": "python",
   "pygments_lexer": "ipython3",
   "version": "3.9.7"
  }
 },
 "nbformat": 4,
 "nbformat_minor": 5
}
